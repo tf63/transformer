{
 "cells": [
  {
   "cell_type": "code",
   "execution_count": 1,
   "metadata": {},
   "outputs": [],
   "source": [
    "# code from https://github.com/i14kwmr/practice-transformer/blob/main/ReverseDataset.py\n",
    "import torch\n",
    "import torch.utils.data as data\n",
    "\n",
    "\n",
    "# 入力: 大きさseq_lenの配列inp_data, 出力（ラベル）: 逆順のinp_data\n",
    "# sizeはデータ数\n",
    "class ReverseDataset(data.Dataset):\n",
    "    def __init__(self, num_categories, seq_len, size):\n",
    "        super().__init__()\n",
    "        self.num_categories = num_categories\n",
    "        self.seq_len = seq_len\n",
    "        self.size = size\n",
    "\n",
    "        self.data = torch.randint(self.num_categories, size=(self.size, self.seq_len))  # num_categories未満の整数\n",
    "\n",
    "    def __len__(self):\n",
    "        return self.size\n",
    "\n",
    "    def __getitem__(self, idx):\n",
    "        inp_data = self.data[idx]  # 入力データ\n",
    "        labels = torch.flip(inp_data, dims=(0,))  # sizeの次元に沿って入れ替え\n",
    "        return inp_data, labels\n"
   ]
  },
  {
   "cell_type": "code",
   "execution_count": 2,
   "metadata": {},
   "outputs": [],
   "source": [
    "from functools import partial\n",
    "from torch.utils.data import DataLoader\n",
    "\n",
    "\n",
    "# dataloaderを作成\n",
    "num_categories = 10\n",
    "seq_len = 16\n",
    "dataset = partial(ReverseDataset, num_categories, seq_len)\n",
    "train_loader = DataLoader(dataset(50000), batch_size=128, shuffle=True, drop_last=True, pin_memory=True)"
   ]
  },
  {
   "cell_type": "code",
   "execution_count": 10,
   "metadata": {},
   "outputs": [
    {
     "name": "stdout",
     "output_type": "stream",
     "text": [
      "tensor([2, 0, 5, 7, 8, 2, 2, 5, 6, 1, 4, 3, 7, 9, 7, 1]) torch.Size([128, 16])\n",
      "tensor([1, 7, 9, 7, 3, 4, 1, 6, 5, 2, 2, 8, 7, 5, 0, 2]) torch.Size([128, 16])\n"
     ]
    }
   ],
   "source": [
    "x, y = next(iter(train_loader))\n",
    "\n",
    "print(x[0], x.shape)\n",
    "print(y[0], y.shape)"
   ]
  }
 ],
 "metadata": {
  "kernelspec": {
   "display_name": "Python 3",
   "language": "python",
   "name": "python3"
  },
  "language_info": {
   "codemirror_mode": {
    "name": "ipython",
    "version": 3
   },
   "file_extension": ".py",
   "mimetype": "text/x-python",
   "name": "python",
   "nbconvert_exporter": "python",
   "pygments_lexer": "ipython3",
   "version": "3.8.10"
  }
 },
 "nbformat": 4,
 "nbformat_minor": 2
}
